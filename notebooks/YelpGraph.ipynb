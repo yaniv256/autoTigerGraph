{
 "cells": [
  {
   "cell_type": "markdown",
   "metadata": {},
   "source": [
    "# Launch a TigerGraph Developer instance on AWS \n",
    "Use the following command in a shell to connect to it \n",
    "\n",
    "`ssh -L14240:localhost:14240 -L 8888:localhost:8888 -i your_aws_key.pem ubuntu@your-server-ip`\n",
    "\n",
    "Inside the server clone the autoTigerGraph repository\n",
    "\n",
    "`git clone https://github.com/yaniv256/autoTigerGraph`\n",
    "\n",
    "Run `jupyter notebook` on the server and open this notebook from the `notebooks` directory \n",
    "\n",
    "Make sure that the GSQL server is running with "
   ]
  },
  {
   "cell_type": "code",
   "execution_count": 1,
   "metadata": {},
   "outputs": [
    {
     "name": "stdout",
     "output_type": "stream",
     "text": [
      "\u001b[34m[   Info] \u001b[0m\u001b[32mStarting\u001b[0m EXE\n",
      "\u001b[34m[   Info] \u001b[0m\u001b[32mStarting\u001b[0m CTRL\n",
      "\u001b[34m[   Info] \u001b[0m\u001b[32mStarting\u001b[0m ZK ETCD DICT KAFKA ADMIN GSE NGINX GPE RESTPP KAFKASTRM-LL KAFKACONN TS3SERV GSQL TS3 IFM GUI\n"
     ]
    }
   ],
   "source": [
    "!gadmin start all"
   ]
  },
  {
   "cell_type": "markdown",
   "metadata": {},
   "source": [
    "Check the connection by clicking on the link below. It should open TigerStudio in a browser window"
   ]
  },
  {
   "cell_type": "code",
   "execution_count": 2,
   "metadata": {},
   "outputs": [
    {
     "name": "stdout",
     "output_type": "stream",
     "text": [
      "http://localhost:14240\n"
     ]
    }
   ],
   "source": [
    "server = 'http://localhost'\n",
    "print(server+':14240')"
   ]
  },
  {
   "cell_type": "markdown",
   "metadata": {},
   "source": [
    "## Setup working enviroment "
   ]
  },
  {
   "cell_type": "code",
   "execution_count": 1,
   "metadata": {},
   "outputs": [
    {
     "name": "stdout",
     "output_type": "stream",
     "text": [
      "Defaulting to user installation because normal site-packages is not writeable\n",
      "Collecting kaggle\n",
      "  Using cached kaggle-1.5.6.tar.gz (58 kB)\n",
      "Collecting ijson\n",
      "  Downloading ijson-3.1.post0-cp36-cp36m-manylinux1_x86_64.whl (106 kB)\n",
      "\u001b[K     |████████████████████████████████| 106 kB 2.9 MB/s eta 0:00:01\n",
      "\u001b[?25hRequirement already satisfied: urllib3<1.25,>=1.21.1 in /usr/local/lib/python3.6/dist-packages (from kaggle) (1.24.3)\n",
      "Requirement already satisfied: six>=1.10 in /usr/local/lib/python3.6/dist-packages (from kaggle) (1.10.0)\n",
      "Requirement already satisfied: certifi in /usr/lib/python3/dist-packages (from kaggle) (2018.1.18)\n",
      "Requirement already satisfied: python-dateutil in /usr/local/lib/python3.6/dist-packages (from kaggle) (2.8.1)\n",
      "Requirement already satisfied: requests in /usr/local/lib/python3.6/dist-packages (from kaggle) (2.20.0)\n",
      "Collecting tqdm\n",
      "  Using cached tqdm-4.47.0-py2.py3-none-any.whl (66 kB)\n",
      "Collecting python-slugify\n",
      "  Using cached python-slugify-4.0.1.tar.gz (11 kB)\n",
      "Requirement already satisfied: idna<2.8,>=2.5 in /usr/lib/python3/dist-packages (from requests->kaggle) (2.6)\n",
      "Requirement already satisfied: chardet<3.1.0,>=3.0.2 in /usr/lib/python3/dist-packages (from requests->kaggle) (3.0.4)\n",
      "Collecting text-unidecode>=1.3\n",
      "  Using cached text_unidecode-1.3-py2.py3-none-any.whl (78 kB)\n",
      "Building wheels for collected packages: kaggle, python-slugify\n",
      "  Building wheel for kaggle (setup.py) ... \u001b[?25ldone\n",
      "\u001b[?25h  Created wheel for kaggle: filename=kaggle-1.5.6-py3-none-any.whl size=72859 sha256=0cd07085407a0b67a845e1d9c471ce5873aed4af81f9813f601bd2928daf8c4a\n",
      "  Stored in directory: /home/ubuntu/.cache/pip/wheels/01/3e/ff/77407ebac3ef71a79b9166a8382aecf88415a0bcbe3c095a01\n",
      "  Building wheel for python-slugify (setup.py) ... \u001b[?25ldone\n",
      "\u001b[?25h  Created wheel for python-slugify: filename=python_slugify-4.0.1-py2.py3-none-any.whl size=6767 sha256=f39f1131cc810cbfb6e7040681cbe7764cd7873b05f39f5f1c71b52de832ad72\n",
      "  Stored in directory: /home/ubuntu/.cache/pip/wheels/72/e6/db/122611605e60148f54ee2abaca98b2bbeafc6e22486a867bad\n",
      "Successfully built kaggle python-slugify\n",
      "Installing collected packages: tqdm, text-unidecode, python-slugify, kaggle, ijson\n",
      "\u001b[33m  WARNING: The script tqdm is installed in '/home/ubuntu/.local/bin' which is not on PATH.\n",
      "  Consider adding this directory to PATH or, if you prefer to suppress this warning, use --no-warn-script-location.\u001b[0m\n",
      "\u001b[33m  WARNING: The script slugify is installed in '/home/ubuntu/.local/bin' which is not on PATH.\n",
      "  Consider adding this directory to PATH or, if you prefer to suppress this warning, use --no-warn-script-location.\u001b[0m\n",
      "\u001b[33m  WARNING: The script kaggle is installed in '/home/ubuntu/.local/bin' which is not on PATH.\n",
      "  Consider adding this directory to PATH or, if you prefer to suppress this warning, use --no-warn-script-location.\u001b[0m\n",
      "Successfully installed ijson-3.1.post0 kaggle-1.5.6 python-slugify-4.0.1 text-unidecode-1.3 tqdm-4.47.0\n"
     ]
    }
   ],
   "source": [
    "!pip3 install kaggle ijson"
   ]
  },
  {
   "cell_type": "markdown",
   "metadata": {},
   "source": [
    "## Install autoTigerGraph from local respository\n",
    "You'll need to restart the kernal after this one (keyboard shortcut 0,0):"
   ]
  },
  {
   "cell_type": "code",
   "execution_count": 2,
   "metadata": {},
   "outputs": [
    {
     "name": "stdout",
     "output_type": "stream",
     "text": [
      "Defaulting to user installation because normal site-packages is not writeable\n",
      "Obtaining file:///home/ubuntu/autoTigerGraph\n",
      "Installing collected packages: autoTigerGraph\n",
      "  Running setup.py develop for autoTigerGraph\n",
      "Successfully installed autoTigerGraph\n"
     ]
    }
   ],
   "source": [
    "!pip3 install -e .."
   ]
  },
  {
   "cell_type": "code",
   "execution_count": 3,
   "metadata": {},
   "outputs": [
    {
     "name": "stdout",
     "output_type": "stream",
     "text": [
      "Defaulting to user installation because normal site-packages is not writeable\n",
      "Obtaining file:///home/ubuntu/pyTigerGraph\n",
      "Collecting validators\n",
      "  Using cached validators-0.15.0.tar.gz (27 kB)\n",
      "Requirement already satisfied: requests in /usr/local/lib/python3.6/dist-packages (from pyTigerGraph==0.0.6.2) (2.20.0)\n",
      "Requirement already satisfied: six>=1.4.0 in /usr/local/lib/python3.6/dist-packages (from validators->pyTigerGraph==0.0.6.2) (1.10.0)\n",
      "Requirement already satisfied: decorator>=3.4.0 in /usr/local/lib/python3.6/dist-packages (from validators->pyTigerGraph==0.0.6.2) (4.4.2)\n",
      "Requirement already satisfied: urllib3<1.25,>=1.21.1 in /usr/local/lib/python3.6/dist-packages (from requests->pyTigerGraph==0.0.6.2) (1.24.3)\n",
      "Requirement already satisfied: idna<2.8,>=2.5 in /usr/lib/python3/dist-packages (from requests->pyTigerGraph==0.0.6.2) (2.6)\n",
      "Requirement already satisfied: certifi>=2017.4.17 in /usr/lib/python3/dist-packages (from requests->pyTigerGraph==0.0.6.2) (2018.1.18)\n",
      "Requirement already satisfied: chardet<3.1.0,>=3.0.2 in /usr/lib/python3/dist-packages (from requests->pyTigerGraph==0.0.6.2) (3.0.4)\n",
      "Building wheels for collected packages: validators\n",
      "  Building wheel for validators (setup.py) ... \u001b[?25ldone\n",
      "\u001b[?25h  Created wheel for validators: filename=validators-0.15.0-py3-none-any.whl size=18371 sha256=5444316b19b485b2c8ba16360c382eed5729138ea723136247a85e187b0a4ab8\n",
      "  Stored in directory: /home/ubuntu/.cache/pip/wheels/5c/7a/7a/d00ad8409291275019b261d755911ca7b02f4c49c5c2bc361f\n",
      "Successfully built validators\n",
      "Installing collected packages: validators, pyTigerGraph\n",
      "  Running setup.py develop for pyTigerGraph\n",
      "Successfully installed pyTigerGraph validators-0.15.0\n"
     ]
    }
   ],
   "source": [
    "!pip3 install -e ../../pyTigerGraph"
   ]
  },
  {
   "cell_type": "markdown",
   "metadata": {},
   "source": [
    "## Load Yelp Dataset from Kaggle\n",
    "\n",
    "see https://www.kaggle.com/docs/api on how to obtain a kaggle token. Run the next cell and upload your token. "
   ]
  },
  {
   "cell_type": "code",
   "execution_count": 5,
   "metadata": {},
   "outputs": [
    {
     "data": {
      "application/vnd.jupyter.widget-view+json": {
       "model_id": "8946c0271d234b74946069aa86a27f0f",
       "version_major": 2,
       "version_minor": 0
      },
      "text/plain": [
       "FileUpload(value={}, description='Upload')"
      ]
     },
     "metadata": {},
     "output_type": "display_data"
    }
   ],
   "source": [
    "from ipywidgets import FileUpload\n",
    "upload = FileUpload()\n",
    "upload"
   ]
  },
  {
   "cell_type": "code",
   "execution_count": 6,
   "metadata": {},
   "outputs": [],
   "source": [
    "import os\n",
    "\n",
    "!mkdir -p ~/.kaggle\n",
    "with open(os.path.expanduser(\"~/.kaggle/kaggle.json\"), \"w+b\") as i:\n",
    "    i.write(upload.data[0])\n",
    "    \n",
    "!chmod 600 ~/.kaggle/kaggle.json"
   ]
  },
  {
   "cell_type": "code",
   "execution_count": 7,
   "metadata": {},
   "outputs": [
    {
     "name": "stdout",
     "output_type": "stream",
     "text": [
      "Downloading yelp-dataset.zip to /home/ubuntu/autoTigerGraph/notebooks\n",
      "100%|█████████████████████████████████████▉| 4.48G/4.48G [01:30<00:00, 82.9MB/s]\n",
      "100%|██████████████████████████████████████| 4.48G/4.48G [01:30<00:00, 53.4MB/s]\n"
     ]
    }
   ],
   "source": [
    "!kaggle datasets download yelp-dataset/yelp-dataset"
   ]
  },
  {
   "cell_type": "code",
   "execution_count": 11,
   "metadata": {},
   "outputs": [
    {
     "name": "stdout",
     "output_type": "stream",
     "text": [
      "Archive:  yelp-dataset.zip\n",
      "  inflating: Dataset_Agreement.pdf   \n",
      "  inflating: yelp_academic_dataset_business.json  \n",
      "  inflating: yelp_academic_dataset_checkin.json  \n",
      "  inflating: yelp_academic_dataset_review.json  \n",
      "  inflating: yelp_academic_dataset_tip.json  \n",
      "  inflating: yelp_academic_dataset_user.json  \n"
     ]
    }
   ],
   "source": [
    "!unzip -o yelp-dataset"
   ]
  },
  {
   "cell_type": "code",
   "execution_count": 12,
   "metadata": {},
   "outputs": [
    {
     "name": "stdout",
     "output_type": "stream",
     "text": [
      "total 14911464\r\n",
      "-rw-rw-r-- 1 ubuntu ubuntu      41776 Mar 26 01:18 Dataset_Agreement.pdf\r\n",
      "-rw-rw-r-- 1 ubuntu ubuntu      35460 Jul  2 19:44 YelpGraph.ipynb\r\n",
      "-rw-rw-r-- 1 ubuntu ubuntu 4809540040 Jul  2 19:41 \u001b[0m\u001b[01;31myelp-dataset.zip\u001b[0m\r\n",
      "-rw-rw-r-- 1 ubuntu ubuntu  152898689 Mar 26 01:18 yelp_academic_dataset_business.json\r\n",
      "-rw-rw-r-- 1 ubuntu ubuntu  449663480 Mar 26 01:18 yelp_academic_dataset_checkin.json\r\n",
      "-rw-rw-r-- 1 ubuntu ubuntu 6325565224 Mar 26 01:19 yelp_academic_dataset_review.json\r\n",
      "-rw-rw-r-- 1 ubuntu ubuntu  263489322 Mar 26 01:31 yelp_academic_dataset_tip.json\r\n",
      "-rw-rw-r-- 1 ubuntu ubuntu 3268069927 Mar 26 01:32 yelp_academic_dataset_user.json\r\n"
     ]
    }
   ],
   "source": [
    "ls -l"
   ]
  },
  {
   "cell_type": "code",
   "execution_count": 13,
   "metadata": {},
   "outputs": [],
   "source": [
    "!rm yelp-dataset.zip"
   ]
  },
  {
   "cell_type": "code",
   "execution_count": 45,
   "metadata": {},
   "outputs": [
    {
     "name": "stdout",
     "output_type": "stream",
     "text": [
      "yelp_academic_dataset_business.json\r\n",
      "{\"business_id\":\"f9NumwFMBDn751xgFiRbNA\",\"name\":\"The Range At Lake Norman\",\"address\":\"10913 Bailey Rd\",\"city\":\"Cornelius\",\"state\":\"NC\",\"postal_code\":\"28031\",\"latitude\":35.4627242,\"longitude\":-80.8526119,\"stars\":3.5,\"review_count\":36,\"is_open\":1,\"attributes\":{\"BusinessAcceptsCreditCards\":\"True\",\"BikeParking\":\"True\",\"GoodForKids\":\"False\",\"BusinessParking\":\"{'garage': False, 'street': False, 'validated': False, 'lot': True, 'valet': False}\",\"ByAppointmentOnly\":\"False\",\"RestaurantsPriceRange2\":\"3\"},\"categories\":\"Active Life, Gun\\/Rifle Ranges, Guns & Ammo, Shopping\",\"hours\":{\"Monday\":\"10:0-18:0\",\"Tuesday\":\"11:0-20:0\",\"Wednesday\":\"10:0-18:0\",\"Thursday\":\"11:0-20:0\",\"Friday\":\"11:0-20:0\",\"Saturday\":\"11:0-20:0\",\"Sunday\":\"13:0-18:0\"}}\r\n",
      "\r\n",
      "yelp_academic_dataset_checkin.json\r\n",
      "{\"business_id\":\"--1UhMGODdWsrMastO9DZw\",\"date\":\"2016-04-26 19:49:16, 2016-08-30 18:36:57, 2016-10-15 02:45:18, 2016-11-18 01:54:50, 2017-04-20 18:39:06, 2017-05-03 17:58:02, 2019-03-19 22:04:48\"}\r\n",
      "\r\n",
      "yelp_academic_dataset_review.json\r\n",
      "{\"review_id\":\"xQY8N_XvtGbearJ5X4QryQ\",\"user_id\":\"OwjRMXRC0KyPrIlcjaXeFQ\",\"business_id\":\"-MhfebM0QIsKt87iDN-FNw\",\"stars\":2.0,\"useful\":5,\"funny\":0,\"cool\":0,\"text\":\"As someone who has worked with many museums, I was eager to visit this gallery on my most recent trip to Las Vegas. When I saw they would be showing infamous eggs of the House of Faberge from the Virginia Museum of Fine Arts (VMFA), I knew I had to go!\\n\\nTucked away near the gelateria and the garden, the Gallery is pretty much hidden from view. It's what real estate agents would call \\\"cozy\\\" or \\\"charming\\\" - basically any euphemism for small.\\n\\nThat being said, you can still see wonderful art at a gallery of any size, so why the two *s you ask? Let me tell you:\\n\\n* pricing for this, while relatively inexpensive for a Las Vegas attraction, is completely over the top. For the space and the amount of art you can fit in there, it is a bit much.\\n* it's not kid friendly at all. Seriously, don't bring them.\\n* the security is not trained properly for the show. When the curating and design teams collaborate for exhibitions, there is a definite flow. That means visitors should view the art in a certain sequence, whether it be by historical period or cultural significance (this is how audio guides are usually developed). When I arrived in the gallery I could not tell where to start, and security was certainly not helpful. I was told to \\\"just look around\\\" and \\\"do whatever.\\\" \\n\\nAt such a *fine* institution, I find the lack of knowledge and respect for the art appalling.\",\"date\":\"2015-04-15 05:21:16\"}\r\n",
      "\r\n",
      "yelp_academic_dataset_tip.json\r\n",
      "{\"user_id\":\"hf27xTME3EiCp6NL6VtWZQ\",\"business_id\":\"UYX5zL_Xj9WEc_Wp-FrqHw\",\"text\":\"Here for a quick mtg\",\"date\":\"2013-11-26 18:20:08\",\"compliment_count\":0}\r\n",
      "\r\n",
      "yelp_academic_dataset_user.json\r\n",
      "{\"user_id\":\"ntlvfPzc8eglqvk92iDIAw\",\"name\":\"Rafael\",\"review_count\":553,\"yelping_since\":\"2007-07-06 03:27:11\",\"useful\":628,\"funny\":225,\"cool\":227,\"elite\":\"\",\"friends\":\"oeMvJh94PiGQnx_6GlndPQ, wm1z1PaJKvHgSDRKfwhfDg, IkRib6Xs91PPW7pon7VVig, A8Aq8f0-XvLBcyMk2GJdJQ, eEZM1kogR7eL4GOBZyPvBA, e1o1LN7ez5ckCpQeAab4iw, _HrJVzFaRFUhPva8cwBjpQ, pZeGZGzX-ROT_D5lam5uNg, 0S6EI51ej5J7dgYz3-O0lA, woDt8raW-AorxQM_tIE2eA, hWUnSE5gKXNe7bDc8uAG9A, c_3LDSO2RHwZ94_Q6j_O7w, -uv1wDiaplY6eXXS0VwQiA, QFjqxXn3acDC7hckFGUKMg, ErOqapICmHPTN8YobZIcfQ, mJLRvqLOKhqEdkgt9iEaCQ, VKX7jlScJSA-ja5hYRw12Q, ijIC9w5PRcj3dWVlanjZeg, CIZGlEw-Bp0rmkP8M6yQ9Q, OC6fT5WZ8EU7tEVJ3bzPBQ, UZSDGTDpycDzrlfUlyw2dQ, deL6e_z9xqZTIODKqnvRXQ, 5mG2ENw2PylIWElqHSMGqg, Uh5Kug2fvDd51RYmsNZkGg, 4dI4uoShugD9z84fYupelQ, EQpFHqGT9Tk6YSwORTtwpg, o4EGL2-ICGmRJzJ3GxB-vw, s8gK7sdVzJcYKcPv2dkZXw, vOYVZgb_GVe-kdtjQwSUHw, wBbjgHsrKr7BsPBrQwJf2w, p59u2EC_qcmCmLeX1jCi5Q, VSAZI1eHDrOPRWMK4Q2DIQ, efMfeI_dkhpeGykaRJqxfQ, x6qYcQ8_i0mMDzSLsFCbZg, K_zSmtNGw1fu-vmxyTVfCQ, 5IM6YPQCK-NABkXmHhlRGQ, U_w8ZMD26vnkeeS1sD7s4Q, AbfS_oXF8H6HJb5jFqhrLw, hbcjX4_D4KIfonNnwrH-cg, UKf66_MPz0zHCP70mF6p1g, hK2gYbxZRTqcqlSiQQcrtQ, 2Q45w_Twx_T9dXqlE16xtQ, BwRn8qcKSeA77HLaOTbfiQ, jouOn4VS_DtFPtMR2w8VDA, ESteyJabbfvqas6CEDs3pQ\",\"fans\":14,\"average_stars\":3.57,\"compliment_hot\":3,\"compliment_more\":2,\"compliment_profile\":1,\"compliment_cute\":0,\"compliment_list\":1,\"compliment_note\":11,\"compliment_plain\":15,\"compliment_cool\":22,\"compliment_funny\":22,\"compliment_writer\":10,\"compliment_photos\":0}\r\n",
      "\r\n"
     ]
    }
   ],
   "source": [
    "!/bin/bash -c 'for i in *.json; do echo $i; head -1 $i; echo; done'"
   ]
  },
  {
   "cell_type": "markdown",
   "metadata": {},
   "source": [
    "## Make changes if you want to autoTigerGraph.py"
   ]
  },
  {
   "cell_type": "code",
   "execution_count": 15,
   "metadata": {},
   "outputs": [
    {
     "name": "stdout",
     "output_type": "stream",
     "text": [
      "Overwriting ../autoTigerGraph/autoTigerGraph.py\n"
     ]
    }
   ],
   "source": [
    "%%writefile ../autoTigerGraph/autoTigerGraph.py\n",
    "import ijson\n",
    "\n",
    "#print('Loaded local dev copy of autoTigerGraph!!')\n",
    "\n",
    "def get_first(filename):\n",
    "\n",
    "    with open(filename, 'r') as f:\n",
    "        objects = ijson.items(f, '', multiple_values=True, use_float=True)\n",
    "        first  = objects.__next__()\n",
    "        fields = list(zip(range(len(first)), \n",
    "                        list(first.keys()), \n",
    "                        [type(value).__name__ for value in first.values()]))\n",
    "\n",
    "    return first, fields\n",
    "\n",
    "\n",
    "def vertex_from_json(json_object, vertex_name, fields=None):\n",
    "\n",
    "    if fields == None:\n",
    "        fields = list(json_object.keys())\n",
    "    \n",
    "    type_translate = {'str': 'STRING', 'dict': 'STRING', 'float': 'DOUBLE', \n",
    "                      'bool': 'BOOL', 'int': 'INT'}\n",
    "\n",
    "    gsql_cmd  = 'VERTEX ' + vertex_name + ' (PRIMARY_ID ' \n",
    "    \n",
    "    for field in [fields[0]]+fields:\n",
    "\n",
    "        if field == 'date':\n",
    "            gsql_cmd += 'date_time' + ' '\n",
    "            gsql_cmd += 'DATETIME'\n",
    "        else:    \n",
    "            gsql_cmd += field + ' '\n",
    "            gsql_cmd += type_translate[type(json_object[field]).__name__]\n",
    "    \n",
    "        gsql_cmd += ', '\n",
    "\n",
    "    return gsql_cmd[:-2] + ')'\n",
    "\n",
    "def problem_fields_to_str(json_object):\n",
    "\n",
    "    for key, value in json_object.items():\n",
    "        if isinstance(value, dict) or value == None:\n",
    "            json_object[key] = str(value)\n",
    "        if key == 'date':\n",
    "            json_object.pop(key)\n",
    "            json_object['date_time'] = value\n",
    "\n",
    "    return json_object\n",
    "\n",
    "\n",
    "def upsert_json_vertices(filename, conn, vertex_name, primary_id, batch_size, max_verts):\n",
    "\n",
    "    ids = ['']*batch_size\n",
    "    bodies = ['']*batch_size\n",
    "\n",
    "    with open(filename, 'r') as f:\n",
    "        objects = ijson.items(f, '', multiple_values=True, use_float=True)\n",
    "\n",
    "        i = 0\n",
    "        count = 0\n",
    "        for json_object in objects:\n",
    "\n",
    "            if json_object:\n",
    "                ids[i]=json_object[primary_id]\n",
    "                bodies[i]=problem_fields_to_str(json_object)\n",
    "                count += 1\n",
    "                i += 1\n",
    "                if count >= max_verts:\n",
    "                    break\n",
    "                if i%batch_size == 0:\n",
    "                    conn.upsertVertices(vertex_name, list(zip(ids, bodies)))\n",
    "                    i = 0\n",
    "\n",
    "            else:\n",
    "                break\n",
    "                \n",
    "    conn.upsertVertices(vertex_name, list(zip(ids[:i], bodies[:i])))\n",
    "\n",
    "    return count\n",
    "\n",
    "def upsert_json_edges(filename, conn, from_name, from_field, edge_name, \n",
    "                      to_name, to_field, batch_size, max_edges, split_string=', '):\n",
    "\n",
    "    froms = ['']*batch_size\n",
    "    tos = ['']*batch_size\n",
    "\n",
    "    with open(filename, 'r') as f:\n",
    "        objects = ijson.items(f, '', multiple_values=True, use_float=True)\n",
    "\n",
    "        i = 0\n",
    "        count = 0\n",
    "        for json_object in objects:\n",
    "\n",
    "            if json_object:\n",
    "                \n",
    "                json_froms = json_object[from_field].split(split_string)\n",
    "                json_tos = json_object[to_field].split(split_string)\n",
    "                \n",
    "                if len(json_froms) > 1:\n",
    "                    json_tos *= len(json_forms)\n",
    "                elif len(json_tos) > 1:\n",
    "                    json_froms *= len(json_tos)    \n",
    "                \n",
    "                for from_vert, to_vert in zip(json_froms, json_tos):\n",
    "\n",
    "                    froms[i] = from_vert\n",
    "                    tos[i] = to_vert\n",
    "                    count += 1\n",
    "                    i += 1\n",
    "                    if count >= max_edges:\n",
    "                        conn.upsertEdges(from_name, edge_name, to_name, list(zip(froms[:i], tos[:i])))\n",
    "                        return count\n",
    "                    if i%batch_size == 0:\n",
    "                        conn.upsertEdges(from_name, edge_name, to_name, list(zip(froms, tos)))\n",
    "                        i = 0\n",
    "\n",
    "            else:\n",
    "                break\n",
    "\n",
    "    return count\n"
   ]
  },
  {
   "cell_type": "markdown",
   "metadata": {},
   "source": [
    "You'll need to restart the kernal before this one (keyboard shortcut 0,0):"
   ]
  },
  {
   "cell_type": "code",
   "execution_count": 1,
   "metadata": {},
   "outputs": [
    {
     "name": "stdout",
     "output_type": "stream",
     "text": [
      "Loaded local dev copy of autoTigerGraph!!\n"
     ]
    }
   ],
   "source": [
    "import autoTigerGraph as atg"
   ]
  },
  {
   "cell_type": "code",
   "execution_count": 2,
   "metadata": {},
   "outputs": [
    {
     "name": "stdout",
     "output_type": "stream",
     "text": [
      "http://localhost:14240\n"
     ]
    }
   ],
   "source": [
    "server = 'http://localhost'\n",
    "print(server+':14240')"
   ]
  },
  {
   "cell_type": "code",
   "execution_count": 3,
   "metadata": {},
   "outputs": [],
   "source": [
    "import pyTigerGraph as tg\n",
    "\n",
    "conn = tg.TigerGraphConnection(host=server, graphname='yelp')\n",
    "shell = tg.Gsql(conn , certNeeded=False)\n",
    "\n",
    "shell.jarLocation='/home/ubuntu/tigergraph/app/3.0.0/dev/gdk/gsql/lib'"
   ]
  },
  {
   "cell_type": "code",
   "execution_count": 4,
   "metadata": {},
   "outputs": [
    {
     "name": "stdout",
     "output_type": "stream",
     "text": [
      "Connecting to localhost:14240\n",
      "If there is any relative path, it is relative to <System.AppRoot>/dev/gdk/gsql\n",
      "Dropping all, about 1 minute ...\n",
      "Abort all active loading jobs\n",
      "Resetting GPE...\n",
      "Successfully reset GPE\n",
      "Stopping GPE GSE\n",
      "Successfully stopped GPE GSE in 0.005 seconds\n",
      "Clearing graph store...\n",
      "Successfully cleared graph store\n",
      "Everything is dropped.\n",
      "\n"
     ]
    }
   ],
   "source": [
    "print(shell.gsql('drop all', options=[]))"
   ]
  },
  {
   "cell_type": "code",
   "execution_count": 5,
   "metadata": {},
   "outputs": [
    {
     "name": "stdout",
     "output_type": "stream",
     "text": [
      "Connecting to localhost:14240\n",
      "If there is any relative path, it is relative to <System.AppRoot>/dev/gdk/gsql\n",
      "---- Global vertices, edges, and all graphs\n",
      "Vertex Types: \n",
      "Edge Types: \n",
      "\n",
      "Graphs: \n",
      "Jobs: \n",
      "\n",
      "\n",
      "JSON API version: v2\n",
      "Syntax version: v1\n",
      "\n",
      "\n"
     ]
    }
   ],
   "source": [
    "print(shell.gsql('ls', options=[]))"
   ]
  },
  {
   "cell_type": "markdown",
   "metadata": {},
   "source": [
    "# Create schema and load data"
   ]
  },
  {
   "cell_type": "code",
   "execution_count": 6,
   "metadata": {},
   "outputs": [
    {
     "name": "stdout",
     "output_type": "stream",
     "text": [
      "Connecting to localhost:14240\n",
      "If there is any relative path, it is relative to <System.AppRoot>/dev/gdk/gsql\n",
      "Stopping GPE GSE RESTPP\n",
      "Successfully stopped GPE GSE RESTPP in 0.004 seconds\n",
      "Starting GPE GSE RESTPP\n",
      "Successfully started GPE GSE RESTPP in 0.076 seconds\n",
      "The graph yelp is created.\n",
      "\n"
     ]
    }
   ],
   "source": [
    "print(shell.gsql('create graph yelp (*)', options=[]))"
   ]
  },
  {
   "cell_type": "markdown",
   "metadata": {},
   "source": [
    "## Create and upsert Business"
   ]
  },
  {
   "cell_type": "code",
   "execution_count": 7,
   "metadata": {},
   "outputs": [
    {
     "data": {
      "text/plain": [
       "({'business_id': 'f9NumwFMBDn751xgFiRbNA',\n",
       "  'name': 'The Range At Lake Norman',\n",
       "  'address': '10913 Bailey Rd',\n",
       "  'city': 'Cornelius',\n",
       "  'state': 'NC',\n",
       "  'postal_code': '28031',\n",
       "  'latitude': 35.4627242,\n",
       "  'longitude': -80.8526119,\n",
       "  'stars': 3.5,\n",
       "  'review_count': 36,\n",
       "  'is_open': 1,\n",
       "  'attributes': {'BusinessAcceptsCreditCards': 'True',\n",
       "   'BikeParking': 'True',\n",
       "   'GoodForKids': 'False',\n",
       "   'BusinessParking': \"{'garage': False, 'street': False, 'validated': False, 'lot': True, 'valet': False}\",\n",
       "   'ByAppointmentOnly': 'False',\n",
       "   'RestaurantsPriceRange2': '3'},\n",
       "  'categories': 'Active Life, Gun/Rifle Ranges, Guns & Ammo, Shopping',\n",
       "  'hours': {'Monday': '10:0-18:0',\n",
       "   'Tuesday': '11:0-20:0',\n",
       "   'Wednesday': '10:0-18:0',\n",
       "   'Thursday': '11:0-20:0',\n",
       "   'Friday': '11:0-20:0',\n",
       "   'Saturday': '11:0-20:0',\n",
       "   'Sunday': '13:0-18:0'}},\n",
       " [(0, 'business_id', 'str'),\n",
       "  (1, 'name', 'str'),\n",
       "  (2, 'address', 'str'),\n",
       "  (3, 'city', 'str'),\n",
       "  (4, 'state', 'str'),\n",
       "  (5, 'postal_code', 'str'),\n",
       "  (6, 'latitude', 'float'),\n",
       "  (7, 'longitude', 'float'),\n",
       "  (8, 'stars', 'float'),\n",
       "  (9, 'review_count', 'int'),\n",
       "  (10, 'is_open', 'int'),\n",
       "  (11, 'attributes', 'dict'),\n",
       "  (12, 'categories', 'str'),\n",
       "  (13, 'hours', 'dict')])"
      ]
     },
     "execution_count": 7,
     "metadata": {},
     "output_type": "execute_result"
    }
   ],
   "source": [
    "filename = 'yelp_academic_dataset_business.json'\n",
    "vertex_name = 'Business'\n",
    "primary_id = 'business_id'\n",
    "\n",
    "json_object, fields = atg.get_first(filename)\n",
    "json_object, fields"
   ]
  },
  {
   "cell_type": "code",
   "execution_count": 8,
   "metadata": {},
   "outputs": [
    {
     "data": {
      "text/plain": [
       "'VERTEX Business (PRIMARY_ID business_id STRING, business_id STRING, name STRING, address STRING, city STRING, state STRING, postal_code STRING, latitude DOUBLE, longitude DOUBLE, stars DOUBLE, review_count INT, is_open INT, attributes STRING, categories STRING, hours STRING)'"
      ]
     },
     "execution_count": 8,
     "metadata": {},
     "output_type": "execute_result"
    }
   ],
   "source": [
    "create = atg.vertex_from_json(json_object=json_object, vertex_name=vertex_name)\n",
    "create"
   ]
  },
  {
   "cell_type": "code",
   "execution_count": 9,
   "metadata": {},
   "outputs": [
    {
     "name": "stdout",
     "output_type": "stream",
     "text": [
      "Connecting to localhost:14240\n",
      "If there is any relative path, it is relative to <System.AppRoot>/dev/gdk/gsql\n",
      "The job add_Business is created.\n",
      "\n",
      "Current graph version 0\n",
      "Trying to add vertex Business.\n",
      "Kick off job add_Business\n",
      "\n",
      "Graph yelp update to new version 1\n",
      "The job add_Business completes in 9.306 seconds!\n",
      "---- Graph yelp\n",
      "Vertex Types: \n",
      "  - VERTEX Business(PRIMARY_ID business_id STRING, business_id STRING, name STRING, address STRING, city STRING, state STRING, postal_code STRING, latitude DOUBLE, longitude DOUBLE, stars DOUBLE, review_count INT, is_open INT, attributes STRING, categories STRING, hours STRING) WITH STATS=\"OUTDEGREE_BY_EDGETYPE\"\n",
      "Edge Types: \n",
      "\n",
      "Graphs: \n",
      "  - Graph yelp(Business:v)\n",
      "Jobs: \n",
      "  - CREATE SCHEMA_CHANGE JOB add_Business {\n",
      "      ADD VERTEX Business(PRIMARY_ID business_id STRING, business_id STRING, name STRING, address STRING, city STRING, state STRING, postal_code STRING, latitude DOUBLE, longitude DOUBLE, stars DOUBLE, review_count INT, is_open INT, attributes STRING, categories STRING, hours STRING) WITH STATS=\"OUTDEGREE_BY_EDGETYPE\";\n",
      "    }\n",
      "\n",
      "Queries: \n",
      "\n",
      "\n",
      "\n",
      "\n",
      "\n"
     ]
    }
   ],
   "source": [
    "print(shell.gsql(\n",
    "'''\n",
    "CREATE SCHEMA_CHANGE JOB add_{}{{\n",
    "    ADD {};\n",
    "}}\n",
    "RUN SCHEMA_CHANGE JOB add_{}\n",
    "ls\n",
    "'''.format(vertex_name, create, vertex_name)))"
   ]
  },
  {
   "cell_type": "code",
   "execution_count": 10,
   "metadata": {},
   "outputs": [
    {
     "data": {
      "text/plain": [
       "10"
      ]
     },
     "execution_count": 10,
     "metadata": {},
     "output_type": "execute_result"
    }
   ],
   "source": [
    "atg.upsert_json_vertices(filename=filename, conn=conn, vertex_name=vertex_name, \n",
    "                      primary_id=primary_id, batch_size=10000, max_verts = 10)"
   ]
  },
  {
   "cell_type": "code",
   "execution_count": 11,
   "metadata": {},
   "outputs": [
    {
     "data": {
      "text/plain": [
       "[{'count': 10, 'v_type': 'Business'}]"
      ]
     },
     "execution_count": 11,
     "metadata": {},
     "output_type": "execute_result"
    }
   ],
   "source": [
    "shell.gsql('select count(*) from {}'.format(vertex_name))"
   ]
  },
  {
   "cell_type": "code",
   "execution_count": 12,
   "metadata": {},
   "outputs": [
    {
     "data": {
      "text/plain": [
       "209393"
      ]
     },
     "execution_count": 12,
     "metadata": {},
     "output_type": "execute_result"
    }
   ],
   "source": [
    "atg.upsert_json_vertices(filename=filename, conn=conn, vertex_name=vertex_name, \n",
    "                      primary_id=primary_id, batch_size=10000, max_verts = 10**10)"
   ]
  },
  {
   "cell_type": "code",
   "execution_count": 13,
   "metadata": {
    "scrolled": true
   },
   "outputs": [
    {
     "data": {
      "text/plain": [
       "[{'count': 209393, 'v_type': 'Business'}]"
      ]
     },
     "execution_count": 13,
     "metadata": {},
     "output_type": "execute_result"
    }
   ],
   "source": [
    "shell.gsql('select count(*) from {}'.format(vertex_name))"
   ]
  },
  {
   "cell_type": "markdown",
   "metadata": {},
   "source": [
    "## Create and upsert User"
   ]
  },
  {
   "cell_type": "code",
   "execution_count": 14,
   "metadata": {},
   "outputs": [
    {
     "data": {
      "text/plain": [
       "({'user_id': 'ntlvfPzc8eglqvk92iDIAw',\n",
       "  'name': 'Rafael',\n",
       "  'review_count': 553,\n",
       "  'yelping_since': '2007-07-06 03:27:11',\n",
       "  'useful': 628,\n",
       "  'funny': 225,\n",
       "  'cool': 227,\n",
       "  'elite': '',\n",
       "  'friends': 'oeMvJh94PiGQnx_6GlndPQ, wm1z1PaJKvHgSDRKfwhfDg, IkRib6Xs91PPW7pon7VVig, A8Aq8f0-XvLBcyMk2GJdJQ, eEZM1kogR7eL4GOBZyPvBA, e1o1LN7ez5ckCpQeAab4iw, _HrJVzFaRFUhPva8cwBjpQ, pZeGZGzX-ROT_D5lam5uNg, 0S6EI51ej5J7dgYz3-O0lA, woDt8raW-AorxQM_tIE2eA, hWUnSE5gKXNe7bDc8uAG9A, c_3LDSO2RHwZ94_Q6j_O7w, -uv1wDiaplY6eXXS0VwQiA, QFjqxXn3acDC7hckFGUKMg, ErOqapICmHPTN8YobZIcfQ, mJLRvqLOKhqEdkgt9iEaCQ, VKX7jlScJSA-ja5hYRw12Q, ijIC9w5PRcj3dWVlanjZeg, CIZGlEw-Bp0rmkP8M6yQ9Q, OC6fT5WZ8EU7tEVJ3bzPBQ, UZSDGTDpycDzrlfUlyw2dQ, deL6e_z9xqZTIODKqnvRXQ, 5mG2ENw2PylIWElqHSMGqg, Uh5Kug2fvDd51RYmsNZkGg, 4dI4uoShugD9z84fYupelQ, EQpFHqGT9Tk6YSwORTtwpg, o4EGL2-ICGmRJzJ3GxB-vw, s8gK7sdVzJcYKcPv2dkZXw, vOYVZgb_GVe-kdtjQwSUHw, wBbjgHsrKr7BsPBrQwJf2w, p59u2EC_qcmCmLeX1jCi5Q, VSAZI1eHDrOPRWMK4Q2DIQ, efMfeI_dkhpeGykaRJqxfQ, x6qYcQ8_i0mMDzSLsFCbZg, K_zSmtNGw1fu-vmxyTVfCQ, 5IM6YPQCK-NABkXmHhlRGQ, U_w8ZMD26vnkeeS1sD7s4Q, AbfS_oXF8H6HJb5jFqhrLw, hbcjX4_D4KIfonNnwrH-cg, UKf66_MPz0zHCP70mF6p1g, hK2gYbxZRTqcqlSiQQcrtQ, 2Q45w_Twx_T9dXqlE16xtQ, BwRn8qcKSeA77HLaOTbfiQ, jouOn4VS_DtFPtMR2w8VDA, ESteyJabbfvqas6CEDs3pQ',\n",
       "  'fans': 14,\n",
       "  'average_stars': 3.57,\n",
       "  'compliment_hot': 3,\n",
       "  'compliment_more': 2,\n",
       "  'compliment_profile': 1,\n",
       "  'compliment_cute': 0,\n",
       "  'compliment_list': 1,\n",
       "  'compliment_note': 11,\n",
       "  'compliment_plain': 15,\n",
       "  'compliment_cool': 22,\n",
       "  'compliment_funny': 22,\n",
       "  'compliment_writer': 10,\n",
       "  'compliment_photos': 0},\n",
       " [(0, 'user_id', 'str'),\n",
       "  (1, 'name', 'str'),\n",
       "  (2, 'review_count', 'int'),\n",
       "  (3, 'yelping_since', 'str'),\n",
       "  (4, 'useful', 'int'),\n",
       "  (5, 'funny', 'int'),\n",
       "  (6, 'cool', 'int'),\n",
       "  (7, 'elite', 'str'),\n",
       "  (8, 'friends', 'str'),\n",
       "  (9, 'fans', 'int'),\n",
       "  (10, 'average_stars', 'float'),\n",
       "  (11, 'compliment_hot', 'int'),\n",
       "  (12, 'compliment_more', 'int'),\n",
       "  (13, 'compliment_profile', 'int'),\n",
       "  (14, 'compliment_cute', 'int'),\n",
       "  (15, 'compliment_list', 'int'),\n",
       "  (16, 'compliment_note', 'int'),\n",
       "  (17, 'compliment_plain', 'int'),\n",
       "  (18, 'compliment_cool', 'int'),\n",
       "  (19, 'compliment_funny', 'int'),\n",
       "  (20, 'compliment_writer', 'int'),\n",
       "  (21, 'compliment_photos', 'int')])"
      ]
     },
     "execution_count": 14,
     "metadata": {},
     "output_type": "execute_result"
    }
   ],
   "source": [
    "filename = 'yelp_academic_dataset_user.json'\n",
    "vertex_name = 'User'\n",
    "primary_id = 'user_id'\n",
    "\n",
    "json_object, fields = atg.get_first(filename)\n",
    "json_object, fields"
   ]
  },
  {
   "cell_type": "code",
   "execution_count": 15,
   "metadata": {},
   "outputs": [
    {
     "data": {
      "text/plain": [
       "'VERTEX User (PRIMARY_ID user_id STRING, user_id STRING, name STRING, review_count INT, yelping_since STRING, useful INT, funny INT, cool INT, elite STRING, friends STRING, fans INT, average_stars DOUBLE, compliment_hot INT, compliment_more INT, compliment_profile INT, compliment_cute INT, compliment_list INT, compliment_note INT, compliment_plain INT, compliment_cool INT, compliment_funny INT, compliment_writer INT, compliment_photos INT)'"
      ]
     },
     "execution_count": 15,
     "metadata": {},
     "output_type": "execute_result"
    }
   ],
   "source": [
    "create = atg.vertex_from_json(json_object=json_object, vertex_name=vertex_name)\n",
    "create"
   ]
  },
  {
   "cell_type": "code",
   "execution_count": 16,
   "metadata": {},
   "outputs": [
    {
     "name": "stdout",
     "output_type": "stream",
     "text": [
      "Connecting to localhost:14240\n",
      "If there is any relative path, it is relative to <System.AppRoot>/dev/gdk/gsql\n",
      "The job add_User is created.\n",
      "\n",
      "Current graph version 1\n",
      "Trying to add vertex User.\n",
      "Kick off job add_User\n",
      "\n",
      "Graph yelp update to new version 2\n",
      "The job add_User completes in 9.758 seconds!\n",
      "---- Graph yelp\n",
      "Vertex Types: \n",
      "  - VERTEX Business(PRIMARY_ID business_id STRING, business_id STRING, name STRING, address STRING, city STRING, state STRING, postal_code STRING, latitude DOUBLE, longitude DOUBLE, stars DOUBLE, review_count INT, is_open INT, attributes STRING, categories STRING, hours STRING) WITH STATS=\"OUTDEGREE_BY_EDGETYPE\"\n",
      "  - VERTEX User(PRIMARY_ID user_id STRING, user_id STRING, name STRING, review_count INT, yelping_since STRING, useful INT, funny INT, cool INT, elite STRING, friends STRING, fans INT, average_stars DOUBLE, compliment_hot INT, compliment_more INT, compliment_profile INT, compliment_cute INT, compliment_list INT, compliment_note INT, compliment_plain INT, compliment_cool INT, compliment_funny INT, compliment_writer INT, compliment_photos INT) WITH STATS=\"OUTDEGREE_BY_EDGETYPE\"\n",
      "Edge Types: \n",
      "\n",
      "Graphs: \n",
      "  - Graph yelp(Business:v, User:v)\n",
      "Jobs: \n",
      "  - CREATE SCHEMA_CHANGE JOB add_Business {\n",
      "      ADD VERTEX Business(PRIMARY_ID business_id STRING, business_id STRING, name STRING, address STRING, city STRING, state STRING, postal_code STRING, latitude DOUBLE, longitude DOUBLE, stars DOUBLE, review_count INT, is_open INT, attributes STRING, categories STRING, hours STRING) WITH STATS=\"OUTDEGREE_BY_EDGETYPE\";\n",
      "    }\n",
      "\n",
      "  - CREATE SCHEMA_CHANGE JOB add_User {\n",
      "      ADD VERTEX User(PRIMARY_ID user_id STRING, user_id STRING, name STRING, review_count INT, yelping_since STRING, useful INT, funny INT, cool INT, elite STRING, friends STRING, fans INT, average_stars DOUBLE, compliment_hot INT, compliment_more INT, compliment_profile INT, compliment_cute INT, compliment_list INT, compliment_note INT, compliment_plain INT, compliment_cool INT, compliment_funny INT, compliment_writer INT, compliment_photos INT) WITH STATS=\"OUTDEGREE_BY_EDGETYPE\";\n",
      "    }\n",
      "\n",
      "Queries: \n",
      "\n",
      "\n",
      "\n",
      "\n",
      "\n"
     ]
    }
   ],
   "source": [
    "print(shell.gsql(\n",
    "'''\n",
    "CREATE SCHEMA_CHANGE JOB add_{}{{\n",
    "    ADD {};\n",
    "}}\n",
    "RUN SCHEMA_CHANGE JOB add_{}\n",
    "ls\n",
    "'''.format(vertex_name, create, vertex_name)))"
   ]
  },
  {
   "cell_type": "code",
   "execution_count": 17,
   "metadata": {},
   "outputs": [
    {
     "data": {
      "text/plain": [
       "10"
      ]
     },
     "execution_count": 17,
     "metadata": {},
     "output_type": "execute_result"
    }
   ],
   "source": [
    "atg.upsert_json_vertices(filename=filename, conn=conn, vertex_name=vertex_name, \n",
    "                      primary_id=primary_id, batch_size=10000, max_verts = 10)"
   ]
  },
  {
   "cell_type": "code",
   "execution_count": 18,
   "metadata": {},
   "outputs": [
    {
     "data": {
      "text/plain": [
       "[{'count': 10, 'v_type': 'User'}]"
      ]
     },
     "execution_count": 18,
     "metadata": {},
     "output_type": "execute_result"
    }
   ],
   "source": [
    "shell.gsql('select count(*) from {}'.format(vertex_name))"
   ]
  },
  {
   "cell_type": "code",
   "execution_count": 19,
   "metadata": {},
   "outputs": [
    {
     "data": {
      "text/plain": [
       "1968703"
      ]
     },
     "execution_count": 19,
     "metadata": {},
     "output_type": "execute_result"
    }
   ],
   "source": [
    "atg.upsert_json_vertices(filename=filename, conn=conn, vertex_name=vertex_name, \n",
    "                      primary_id=primary_id, batch_size=10000, max_verts = 10**10)"
   ]
  },
  {
   "cell_type": "code",
   "execution_count": 20,
   "metadata": {
    "scrolled": true
   },
   "outputs": [
    {
     "data": {
      "text/plain": [
       "[{'count': 1968703, 'v_type': 'User'}]"
      ]
     },
     "execution_count": 20,
     "metadata": {},
     "output_type": "execute_result"
    }
   ],
   "source": [
    "shell.gsql('select count(*) from {}'.format(vertex_name))"
   ]
  },
  {
   "cell_type": "markdown",
   "metadata": {},
   "source": [
    "## Create and upsert Review"
   ]
  },
  {
   "cell_type": "code",
   "execution_count": 21,
   "metadata": {},
   "outputs": [
    {
     "data": {
      "text/plain": [
       "({'review_id': 'xQY8N_XvtGbearJ5X4QryQ',\n",
       "  'user_id': 'OwjRMXRC0KyPrIlcjaXeFQ',\n",
       "  'business_id': '-MhfebM0QIsKt87iDN-FNw',\n",
       "  'stars': 2.0,\n",
       "  'useful': 5,\n",
       "  'funny': 0,\n",
       "  'cool': 0,\n",
       "  'text': 'As someone who has worked with many museums, I was eager to visit this gallery on my most recent trip to Las Vegas. When I saw they would be showing infamous eggs of the House of Faberge from the Virginia Museum of Fine Arts (VMFA), I knew I had to go!\\n\\nTucked away near the gelateria and the garden, the Gallery is pretty much hidden from view. It\\'s what real estate agents would call \"cozy\" or \"charming\" - basically any euphemism for small.\\n\\nThat being said, you can still see wonderful art at a gallery of any size, so why the two *s you ask? Let me tell you:\\n\\n* pricing for this, while relatively inexpensive for a Las Vegas attraction, is completely over the top. For the space and the amount of art you can fit in there, it is a bit much.\\n* it\\'s not kid friendly at all. Seriously, don\\'t bring them.\\n* the security is not trained properly for the show. When the curating and design teams collaborate for exhibitions, there is a definite flow. That means visitors should view the art in a certain sequence, whether it be by historical period or cultural significance (this is how audio guides are usually developed). When I arrived in the gallery I could not tell where to start, and security was certainly not helpful. I was told to \"just look around\" and \"do whatever.\" \\n\\nAt such a *fine* institution, I find the lack of knowledge and respect for the art appalling.',\n",
       "  'date': '2015-04-15 05:21:16'},\n",
       " [(0, 'review_id', 'str'),\n",
       "  (1, 'user_id', 'str'),\n",
       "  (2, 'business_id', 'str'),\n",
       "  (3, 'stars', 'float'),\n",
       "  (4, 'useful', 'int'),\n",
       "  (5, 'funny', 'int'),\n",
       "  (6, 'cool', 'int'),\n",
       "  (7, 'text', 'str'),\n",
       "  (8, 'date', 'str')])"
      ]
     },
     "execution_count": 21,
     "metadata": {},
     "output_type": "execute_result"
    }
   ],
   "source": [
    "filename = 'yelp_academic_dataset_review.json'\n",
    "vertex_name = 'Review'\n",
    "primary_id = 'review_id'\n",
    "\n",
    "json_object, fields = atg.get_first(filename)\n",
    "json_object, fields"
   ]
  },
  {
   "cell_type": "code",
   "execution_count": 22,
   "metadata": {},
   "outputs": [
    {
     "data": {
      "text/plain": [
       "'VERTEX Review (PRIMARY_ID review_id STRING, review_id STRING, user_id STRING, business_id STRING, stars DOUBLE, useful INT, funny INT, cool INT, text STRING, date_time DATETIME)'"
      ]
     },
     "execution_count": 22,
     "metadata": {},
     "output_type": "execute_result"
    }
   ],
   "source": [
    "create = atg.vertex_from_json(json_object=json_object, vertex_name=vertex_name)\n",
    "create"
   ]
  },
  {
   "cell_type": "code",
   "execution_count": 23,
   "metadata": {},
   "outputs": [
    {
     "name": "stdout",
     "output_type": "stream",
     "text": [
      "Connecting to localhost:14240\n",
      "If there is any relative path, it is relative to <System.AppRoot>/dev/gdk/gsql\n",
      "The job add_Review is created.\n",
      "\n",
      "Current graph version 2\n",
      "Trying to add vertex Review.\n",
      "Kick off job add_Review\n",
      "\n",
      "Graph yelp update to new version 3\n",
      "The job add_Review completes in 11.012 seconds!\n",
      "---- Graph yelp\n",
      "Vertex Types: \n",
      "  - VERTEX Business(PRIMARY_ID business_id STRING, business_id STRING, name STRING, address STRING, city STRING, state STRING, postal_code STRING, latitude DOUBLE, longitude DOUBLE, stars DOUBLE, review_count INT, is_open INT, attributes STRING, categories STRING, hours STRING) WITH STATS=\"OUTDEGREE_BY_EDGETYPE\"\n",
      "  - VERTEX User(PRIMARY_ID user_id STRING, user_id STRING, name STRING, review_count INT, yelping_since STRING, useful INT, funny INT, cool INT, elite STRING, friends STRING, fans INT, average_stars DOUBLE, compliment_hot INT, compliment_more INT, compliment_profile INT, compliment_cute INT, compliment_list INT, compliment_note INT, compliment_plain INT, compliment_cool INT, compliment_funny INT, compliment_writer INT, compliment_photos INT) WITH STATS=\"OUTDEGREE_BY_EDGETYPE\"\n",
      "  - VERTEX Review(PRIMARY_ID review_id STRING, review_id STRING, user_id STRING, business_id STRING, stars DOUBLE, useful INT, funny INT, cool INT, text STRING, date_time DATETIME) WITH STATS=\"OUTDEGREE_BY_EDGETYPE\"\n",
      "Edge Types: \n",
      "\n",
      "Graphs: \n",
      "  - Graph yelp(Business:v, User:v, Review:v)\n",
      "Jobs: \n",
      "  - CREATE SCHEMA_CHANGE JOB add_Business {\n",
      "      ADD VERTEX Business(PRIMARY_ID business_id STRING, business_id STRING, name STRING, address STRING, city STRING, state STRING, postal_code STRING, latitude DOUBLE, longitude DOUBLE, stars DOUBLE, review_count INT, is_open INT, attributes STRING, categories STRING, hours STRING) WITH STATS=\"OUTDEGREE_BY_EDGETYPE\";\n",
      "    }\n",
      "\n",
      "  - CREATE SCHEMA_CHANGE JOB add_User {\n",
      "      ADD VERTEX User(PRIMARY_ID user_id STRING, user_id STRING, name STRING, review_count INT, yelping_since STRING, useful INT, funny INT, cool INT, elite STRING, friends STRING, fans INT, average_stars DOUBLE, compliment_hot INT, compliment_more INT, compliment_profile INT, compliment_cute INT, compliment_list INT, compliment_note INT, compliment_plain INT, compliment_cool INT, compliment_funny INT, compliment_writer INT, compliment_photos INT) WITH STATS=\"OUTDEGREE_BY_EDGETYPE\";\n",
      "    }\n",
      "\n",
      "  - CREATE SCHEMA_CHANGE JOB add_Review {\n",
      "      ADD VERTEX Review(PRIMARY_ID review_id STRING, review_id STRING, user_id STRING, business_id STRING, stars DOUBLE, useful INT, funny INT, cool INT, text STRING, date_time DATETIME) WITH STATS=\"OUTDEGREE_BY_EDGETYPE\";\n",
      "    }\n",
      "\n",
      "Queries: \n",
      "\n",
      "\n",
      "\n",
      "\n",
      "\n"
     ]
    }
   ],
   "source": [
    "print(shell.gsql(\n",
    "'''\n",
    "CREATE SCHEMA_CHANGE JOB add_{}{{\n",
    "    ADD {};\n",
    "}}\n",
    "RUN SCHEMA_CHANGE JOB add_{}\n",
    "ls\n",
    "'''.format(vertex_name, create, vertex_name)))"
   ]
  },
  {
   "cell_type": "code",
   "execution_count": 24,
   "metadata": {},
   "outputs": [
    {
     "data": {
      "text/plain": [
       "10"
      ]
     },
     "execution_count": 24,
     "metadata": {},
     "output_type": "execute_result"
    }
   ],
   "source": [
    "atg.upsert_json_vertices(filename=filename, conn=conn, vertex_name=vertex_name, \n",
    "                      primary_id=primary_id, batch_size=10000, max_verts = 10)"
   ]
  },
  {
   "cell_type": "code",
   "execution_count": 25,
   "metadata": {},
   "outputs": [
    {
     "data": {
      "text/plain": [
       "[{'count': 10, 'v_type': 'Review'}]"
      ]
     },
     "execution_count": 25,
     "metadata": {},
     "output_type": "execute_result"
    }
   ],
   "source": [
    "shell.gsql('select count(*) from {}'.format(vertex_name))"
   ]
  },
  {
   "cell_type": "code",
   "execution_count": 26,
   "metadata": {},
   "outputs": [
    {
     "data": {
      "text/plain": [
       "8021122"
      ]
     },
     "execution_count": 26,
     "metadata": {},
     "output_type": "execute_result"
    }
   ],
   "source": [
    "atg.upsert_json_vertices(filename=filename, conn=conn, vertex_name=vertex_name, \n",
    "                      primary_id=primary_id, batch_size=10000, max_verts = 10**10)"
   ]
  },
  {
   "cell_type": "code",
   "execution_count": 27,
   "metadata": {
    "scrolled": true
   },
   "outputs": [
    {
     "data": {
      "text/plain": [
       "[{'count': 8021122, 'v_type': 'Review'}]"
      ]
     },
     "execution_count": 27,
     "metadata": {},
     "output_type": "execute_result"
    }
   ],
   "source": [
    "shell.gsql('select count(*) from {}'.format(vertex_name))"
   ]
  },
  {
   "cell_type": "markdown",
   "metadata": {},
   "source": [
    "## Add edges between reviews, the business reviewed and the reviewer"
   ]
  },
  {
   "cell_type": "code",
   "execution_count": 28,
   "metadata": {},
   "outputs": [
    {
     "name": "stdout",
     "output_type": "stream",
     "text": [
      "Connecting to localhost:14240\n",
      "If there is any relative path, it is relative to <System.AppRoot>/dev/gdk/gsql\n",
      "The job review_edge_schema is created.\n",
      "\n",
      "Current graph version 3\n",
      "Trying to add edge reviewBy.\n",
      "Trying to add edge reviewOf.\n",
      "Kick off job review_edge_schema\n",
      "\n",
      "Graph yelp update to new version 4\n",
      "The job review_edge_schema completes in 13.049 seconds!\n",
      "---- Graph yelp\n",
      "Vertex Types: \n",
      "  - VERTEX Business(PRIMARY_ID business_id STRING, business_id STRING, name STRING, address STRING, city STRING, state STRING, postal_code STRING, latitude DOUBLE, longitude DOUBLE, stars DOUBLE, review_count INT, is_open INT, attributes STRING, categories STRING, hours STRING) WITH STATS=\"OUTDEGREE_BY_EDGETYPE\"\n",
      "  - VERTEX User(PRIMARY_ID user_id STRING, user_id STRING, name STRING, review_count INT, yelping_since STRING, useful INT, funny INT, cool INT, elite STRING, friends STRING, fans INT, average_stars DOUBLE, compliment_hot INT, compliment_more INT, compliment_profile INT, compliment_cute INT, compliment_list INT, compliment_note INT, compliment_plain INT, compliment_cool INT, compliment_funny INT, compliment_writer INT, compliment_photos INT) WITH STATS=\"OUTDEGREE_BY_EDGETYPE\"\n",
      "  - VERTEX Review(PRIMARY_ID review_id STRING, review_id STRING, user_id STRING, business_id STRING, stars DOUBLE, useful INT, funny INT, cool INT, text STRING, date_time DATETIME) WITH STATS=\"OUTDEGREE_BY_EDGETYPE\"\n",
      "Edge Types: \n",
      "  - UNDIRECTED EDGE reviewBy(FROM Review, TO User)\n",
      "  - UNDIRECTED EDGE reviewOf(FROM Review, TO Business)\n",
      "\n",
      "Graphs: \n",
      "  - Graph yelp(Business:v, User:v, Review:v, reviewBy:e, reviewOf:e)\n",
      "Jobs: \n",
      "  - CREATE SCHEMA_CHANGE JOB add_Business {\n",
      "      ADD VERTEX Business(PRIMARY_ID business_id STRING, business_id STRING, name STRING, address STRING, city STRING, state STRING, postal_code STRING, latitude DOUBLE, longitude DOUBLE, stars DOUBLE, review_count INT, is_open INT, attributes STRING, categories STRING, hours STRING) WITH STATS=\"OUTDEGREE_BY_EDGETYPE\";\n",
      "    }\n",
      "\n",
      "  - CREATE SCHEMA_CHANGE JOB add_User {\n",
      "      ADD VERTEX User(PRIMARY_ID user_id STRING, user_id STRING, name STRING, review_count INT, yelping_since STRING, useful INT, funny INT, cool INT, elite STRING, friends STRING, fans INT, average_stars DOUBLE, compliment_hot INT, compliment_more INT, compliment_profile INT, compliment_cute INT, compliment_list INT, compliment_note INT, compliment_plain INT, compliment_cool INT, compliment_funny INT, compliment_writer INT, compliment_photos INT) WITH STATS=\"OUTDEGREE_BY_EDGETYPE\";\n",
      "    }\n",
      "\n",
      "  - CREATE SCHEMA_CHANGE JOB add_Review {\n",
      "      ADD VERTEX Review(PRIMARY_ID review_id STRING, review_id STRING, user_id STRING, business_id STRING, stars DOUBLE, useful INT, funny INT, cool INT, text STRING, date_time DATETIME) WITH STATS=\"OUTDEGREE_BY_EDGETYPE\";\n",
      "    }\n",
      "\n",
      "  - CREATE SCHEMA_CHANGE JOB review_edge_schema FOR GRAPH yelp {\n",
      "      ADD UNDIRECTED EDGE reviewBy(FROM Review, TO User);\n",
      "      ADD UNDIRECTED EDGE reviewOf(FROM Review, TO Business);\n",
      "    }\n",
      "\n",
      "Queries: \n",
      "\n",
      "\n",
      "\n",
      "\n",
      "\n"
     ]
    }
   ],
   "source": [
    "print(shell.gsql('''\n",
    "CREATE SCHEMA_CHANGE JOB review_edge_schema FOR GRAPH yelp{\n",
    "    ADD UNDIRECTED EDGE reviewBy (FROM Review, TO User);\n",
    "    ADD UNDIRECTED EDGE reviewOf (FROM Review, TO Business);\n",
    "}\n",
    "RUN SCHEMA_CHANGE JOB review_edge_schema\n",
    "ls\n",
    " '''))"
   ]
  },
  {
   "cell_type": "code",
   "execution_count": 29,
   "metadata": {},
   "outputs": [
    {
     "name": "stdout",
     "output_type": "stream",
     "text": [
      "Connecting to localhost:14240\n",
      "If there is any relative path, it is relative to <System.AppRoot>/dev/gdk/gsql\n",
      "Query add_review_edges could not be found.\n",
      "The query add_review_edges has been added!\n",
      "Start installing queries, about 1 minute ...\n",
      "add_review_edges query: curl -X GET 'http://127.0.0.1:9000/query/yelp/add_review_edges'. Add -H \"Authorization: Bearer TOKEN\" if authentication is enabled.\n",
      "\n",
      "\r",
      "[                                                                 ] 0% (0/1)   \r",
      "[                                                                 ] 0% (0/1)   \r",
      "[=====                                                            ] 7% (0/1)   \r",
      "[==========                                                       ] 14% (0/1)  \r",
      "[==============                                                   ] 21% (0/1)  \r",
      "[===================                                              ] 29% (0/1)  \r",
      "[========================                                         ] 36% (0/1)  \r",
      "[============================                                     ] 43% (0/1)  \r",
      "[==================================                               ] 51% (0/1)  \r",
      "[======================================                           ] 58% (0/1)  \r",
      "[===========================================                      ] 65% (0/1)  \r",
      "[================================================                 ] 73% (0/1)  \r",
      "[====================================================             ] 80% (0/1)  \r",
      "[=========================================================        ] 87% (0/1)  \r",
      "[==============================================================   ] 95% (0/1)  \r",
      "[=================================================================] 100% (1/1) \n",
      "\n"
     ]
    }
   ],
   "source": [
    "print(shell.gsql('''\n",
    "DROP QUERY add_review_edges\n",
    "CREATE QUERY add_review_edges() for graph yelp{\n",
    "\n",
    "    start = {Review.*};    \n",
    "    X = SELECT r FROM start:r\n",
    "        POST-ACCUM INSERT INTO reviewOf VALUES (r.review_id Review, r.business_id Business);\n",
    "         \n",
    "    X = SELECT r FROM start:r\n",
    "        POST-ACCUM INSERT INTO reviewBy VALUES (r.review_id Review, r.user_id User);\n",
    "}\n",
    "\n",
    "INSTALL QUERY add_review_edges\n",
    "'''))\n"
   ]
  },
  {
   "cell_type": "code",
   "execution_count": 30,
   "metadata": {},
   "outputs": [
    {
     "data": {
      "text/plain": [
       "[{'count': 0, 'e_type': 'reviewOf'}]"
      ]
     },
     "execution_count": 30,
     "metadata": {},
     "output_type": "execute_result"
    }
   ],
   "source": [
    "shell.gsql('select count(*) from Review-(reviewOf)-Business')"
   ]
  },
  {
   "cell_type": "code",
   "execution_count": 31,
   "metadata": {},
   "outputs": [
    {
     "data": {
      "text/plain": [
       "[{'count': 0, 'e_type': 'reviewBy'}]"
      ]
     },
     "execution_count": 31,
     "metadata": {},
     "output_type": "execute_result"
    }
   ],
   "source": [
    "shell.gsql('select count(*) from Review-(reviewBy)-User')"
   ]
  },
  {
   "cell_type": "code",
   "execution_count": 33,
   "metadata": {},
   "outputs": [
    {
     "name": "stdout",
     "output_type": "stream",
     "text": [
      "{'error': False, 'message': '', 'version': {'schema': 4, 'edition': 'developer', 'api': 'v2'}, 'results': []}\n"
     ]
    }
   ],
   "source": [
    "print(shell.gsql('''\n",
    "RUN QUERY add_review_edges()\n",
    "'''))"
   ]
  },
  {
   "cell_type": "code",
   "execution_count": 34,
   "metadata": {},
   "outputs": [
    {
     "data": {
      "text/plain": [
       "[{'count': 8021122, 'e_type': 'reviewOf'}]"
      ]
     },
     "execution_count": 34,
     "metadata": {},
     "output_type": "execute_result"
    }
   ],
   "source": [
    "shell.gsql('select count(*) from Review-(reviewOf)-Business')"
   ]
  },
  {
   "cell_type": "code",
   "execution_count": 35,
   "metadata": {},
   "outputs": [
    {
     "data": {
      "text/plain": [
       "[{'count': 8021122, 'e_type': 'reviewBy'}]"
      ]
     },
     "execution_count": 35,
     "metadata": {},
     "output_type": "execute_result"
    }
   ],
   "source": [
    "shell.gsql('select count(*) from Review-(reviewBy)-User')"
   ]
  },
  {
   "cell_type": "markdown",
   "metadata": {},
   "source": [
    "## Upsert friend edges"
   ]
  },
  {
   "cell_type": "code",
   "execution_count": 8,
   "metadata": {},
   "outputs": [
    {
     "name": "stdout",
     "output_type": "stream",
     "text": [
      "Connecting to localhost:14240\n",
      "If there is any relative path, it is relative to <System.AppRoot>/dev/gdk/gsql\n",
      "The job friend_schema is dropped!\n",
      "The job friend_schema is created.\n",
      "\n",
      "Current graph version 5\n",
      "Trying to drop the edge friend.\n",
      "Kick off job friend_schema\n",
      "\n",
      "Graph yelp update to new version 6\n",
      "Validating existing queries...\n",
      "\n",
      "Start installing queries, about 1 minute ...\n",
      "add_review_edges query: curl -X GET 'http://127.0.0.1:9000/query/yelp/add_review_edges'. Add -H \"Authorization: Bearer TOKEN\" if authentication is enabled.\n",
      "\n",
      "\r",
      "[                                                                 ] 0% (0/1)   \r",
      "[                                                                 ] 0% (0/1)   \r",
      "[=====                                                            ] 7% (0/1)   \r",
      "[==========                                                       ] 14% (0/1)  \r",
      "[==============                                                   ] 21% (0/1)  \r",
      "[===================                                              ] 29% (0/1)  \r",
      "[========================                                         ] 36% (0/1)  \r",
      "[============================                                     ] 43% (0/1)  \r",
      "[==================================                               ] 51% (0/1)  \r",
      "[======================================                           ] 58% (0/1)  \r",
      "[===========================================                      ] 65% (0/1)  \r",
      "[================================================                 ] 73% (0/1)  \r",
      "[====================================================             ] 80% (0/1)  \r",
      "[=========================================================        ] 87% (0/1)  \r",
      "[==============================================================   ] 95% (0/1)  \r",
      "[=================================================================] 100% (1/1) \n",
      "The job friend_schema completes in 63.420 seconds!\n",
      "---- Graph yelp\n",
      "Vertex Types: \n",
      "  - VERTEX Business(PRIMARY_ID business_id STRING, business_id STRING, name STRING, address STRING, city STRING, state STRING, postal_code STRING, latitude DOUBLE, longitude DOUBLE, stars DOUBLE, review_count INT, is_open INT, attributes STRING, categories STRING, hours STRING) WITH STATS=\"OUTDEGREE_BY_EDGETYPE\"\n",
      "  - VERTEX User(PRIMARY_ID user_id STRING, user_id STRING, name STRING, review_count INT, yelping_since STRING, useful INT, funny INT, cool INT, elite STRING, friends STRING, fans INT, average_stars DOUBLE, compliment_hot INT, compliment_more INT, compliment_profile INT, compliment_cute INT, compliment_list INT, compliment_note INT, compliment_plain INT, compliment_cool INT, compliment_funny INT, compliment_writer INT, compliment_photos INT) WITH STATS=\"OUTDEGREE_BY_EDGETYPE\"\n",
      "  - VERTEX Review(PRIMARY_ID review_id STRING, review_id STRING, user_id STRING, business_id STRING, stars DOUBLE, useful INT, funny INT, cool INT, text STRING, date_time DATETIME) WITH STATS=\"OUTDEGREE_BY_EDGETYPE\"\n",
      "Edge Types: \n",
      "  - UNDIRECTED EDGE reviewBy(FROM Review, TO User)\n",
      "  - UNDIRECTED EDGE reviewOf(FROM Review, TO Business)\n",
      "\n",
      "Graphs: \n",
      "  - Graph yelp(Business:v, User:v, Review:v, reviewBy:e, reviewOf:e)\n",
      "Jobs: \n",
      "  - CREATE SCHEMA_CHANGE JOB add_Business {\n",
      "      ADD VERTEX Business(PRIMARY_ID business_id STRING, business_id STRING, name STRING, address STRING, city STRING, state STRING, postal_code STRING, latitude DOUBLE, longitude DOUBLE, stars DOUBLE, review_count INT, is_open INT, attributes STRING, categories STRING, hours STRING) WITH STATS=\"OUTDEGREE_BY_EDGETYPE\";\n",
      "    }\n",
      "\n",
      "  - CREATE SCHEMA_CHANGE JOB add_User {\n",
      "      ADD VERTEX User(PRIMARY_ID user_id STRING, user_id STRING, name STRING, review_count INT, yelping_since STRING, useful INT, funny INT, cool INT, elite STRING, friends STRING, fans INT, average_stars DOUBLE, compliment_hot INT, compliment_more INT, compliment_profile INT, compliment_cute INT, compliment_list INT, compliment_note INT, compliment_plain INT, compliment_cool INT, compliment_funny INT, compliment_writer INT, compliment_photos INT) WITH STATS=\"OUTDEGREE_BY_EDGETYPE\";\n",
      "    }\n",
      "\n",
      "  - CREATE SCHEMA_CHANGE JOB add_Review {\n",
      "      ADD VERTEX Review(PRIMARY_ID review_id STRING, review_id STRING, user_id STRING, business_id STRING, stars DOUBLE, useful INT, funny INT, cool INT, text STRING, date_time DATETIME) WITH STATS=\"OUTDEGREE_BY_EDGETYPE\";\n",
      "    }\n",
      "\n",
      "  - CREATE SCHEMA_CHANGE JOB review_edge_schema FOR GRAPH yelp {\n",
      "      ADD UNDIRECTED EDGE reviewBy(FROM Review, TO User);\n",
      "      ADD UNDIRECTED EDGE reviewOf(FROM Review, TO Business);\n",
      "    }\n",
      "\n",
      "  - CREATE SCHEMA_CHANGE JOB friend_schema FOR GRAPH yelp {\n",
      "      DROP EDGE friend;\n",
      "    }\n",
      "\n",
      "Queries: \n",
      "  - add_review_edges() (installed v2)\n",
      "\n",
      "\n",
      "\n",
      "\n",
      "\n"
     ]
    }
   ],
   "source": [
    "print(shell.gsql('''\n",
    "drop JOB friend_schema\n",
    "CREATE SCHEMA_CHANGE JOB friend_schema FOR GRAPH yelp{\n",
    "    Drop EDGE friend;\n",
    "}\n",
    "RUN SCHEMA_CHANGE JOB friend_schema\n",
    "ls\n",
    " '''))"
   ]
  },
  {
   "cell_type": "code",
   "execution_count": 9,
   "metadata": {},
   "outputs": [
    {
     "name": "stdout",
     "output_type": "stream",
     "text": [
      "Connecting to localhost:14240\n",
      "If there is any relative path, it is relative to <System.AppRoot>/dev/gdk/gsql\n",
      "The job friend_schema is dropped!\n",
      "The job friend_schema is created.\n",
      "\n",
      "Current graph version 6\n",
      "Trying to add edge friend.\n",
      "Kick off job friend_schema\n",
      "\n",
      "Graph yelp update to new version 7\n",
      "Validating existing queries...\n",
      "\n",
      "Start installing queries, about 1 minute ...\n",
      "add_review_edges query: curl -X GET 'http://127.0.0.1:9000/query/yelp/add_review_edges'. Add -H \"Authorization: Bearer TOKEN\" if authentication is enabled.\n",
      "\n",
      "\r",
      "[                                                                 ] 0% (0/1)   \r",
      "[                                                                 ] 0% (0/1)   \r",
      "[=====                                                            ] 7% (0/1)   \r",
      "[==========                                                       ] 14% (0/1)  \r",
      "[==============                                                   ] 21% (0/1)  \r",
      "[===================                                              ] 29% (0/1)  \r",
      "[========================                                         ] 36% (0/1)  \r",
      "[============================                                     ] 43% (0/1)  \r",
      "[==================================                               ] 51% (0/1)  \r",
      "[======================================                           ] 58% (0/1)  \r",
      "[===========================================                      ] 65% (0/1)  \r",
      "[================================================                 ] 73% (0/1)  \r",
      "[====================================================             ] 80% (0/1)  \r",
      "[=========================================================        ] 87% (0/1)  \r",
      "[==============================================================   ] 95% (0/1)  \r",
      "[=================================================================] 100% (1/1) \n",
      "The job friend_schema completes in 63.610 seconds!\n",
      "---- Graph yelp\n",
      "Vertex Types: \n",
      "  - VERTEX Business(PRIMARY_ID business_id STRING, business_id STRING, name STRING, address STRING, city STRING, state STRING, postal_code STRING, latitude DOUBLE, longitude DOUBLE, stars DOUBLE, review_count INT, is_open INT, attributes STRING, categories STRING, hours STRING) WITH STATS=\"OUTDEGREE_BY_EDGETYPE\"\n",
      "  - VERTEX User(PRIMARY_ID user_id STRING, user_id STRING, name STRING, review_count INT, yelping_since STRING, useful INT, funny INT, cool INT, elite STRING, friends STRING, fans INT, average_stars DOUBLE, compliment_hot INT, compliment_more INT, compliment_profile INT, compliment_cute INT, compliment_list INT, compliment_note INT, compliment_plain INT, compliment_cool INT, compliment_funny INT, compliment_writer INT, compliment_photos INT) WITH STATS=\"OUTDEGREE_BY_EDGETYPE\"\n",
      "  - VERTEX Review(PRIMARY_ID review_id STRING, review_id STRING, user_id STRING, business_id STRING, stars DOUBLE, useful INT, funny INT, cool INT, text STRING, date_time DATETIME) WITH STATS=\"OUTDEGREE_BY_EDGETYPE\"\n",
      "Edge Types: \n",
      "  - UNDIRECTED EDGE reviewBy(FROM Review, TO User)\n",
      "  - UNDIRECTED EDGE reviewOf(FROM Review, TO Business)\n",
      "  - UNDIRECTED EDGE friend(FROM User, TO User)\n",
      "\n",
      "Graphs: \n",
      "  - Graph yelp(Business:v, User:v, Review:v, reviewBy:e, reviewOf:e, friend:e)\n",
      "Jobs: \n",
      "  - CREATE SCHEMA_CHANGE JOB add_Business {\n",
      "      ADD VERTEX Business(PRIMARY_ID business_id STRING, business_id STRING, name STRING, address STRING, city STRING, state STRING, postal_code STRING, latitude DOUBLE, longitude DOUBLE, stars DOUBLE, review_count INT, is_open INT, attributes STRING, categories STRING, hours STRING) WITH STATS=\"OUTDEGREE_BY_EDGETYPE\";\n",
      "    }\n",
      "\n",
      "  - CREATE SCHEMA_CHANGE JOB add_User {\n",
      "      ADD VERTEX User(PRIMARY_ID user_id STRING, user_id STRING, name STRING, review_count INT, yelping_since STRING, useful INT, funny INT, cool INT, elite STRING, friends STRING, fans INT, average_stars DOUBLE, compliment_hot INT, compliment_more INT, compliment_profile INT, compliment_cute INT, compliment_list INT, compliment_note INT, compliment_plain INT, compliment_cool INT, compliment_funny INT, compliment_writer INT, compliment_photos INT) WITH STATS=\"OUTDEGREE_BY_EDGETYPE\";\n",
      "    }\n",
      "\n",
      "  - CREATE SCHEMA_CHANGE JOB add_Review {\n",
      "      ADD VERTEX Review(PRIMARY_ID review_id STRING, review_id STRING, user_id STRING, business_id STRING, stars DOUBLE, useful INT, funny INT, cool INT, text STRING, date_time DATETIME) WITH STATS=\"OUTDEGREE_BY_EDGETYPE\";\n",
      "    }\n",
      "\n",
      "  - CREATE SCHEMA_CHANGE JOB review_edge_schema FOR GRAPH yelp {\n",
      "      ADD UNDIRECTED EDGE reviewBy(FROM Review, TO User);\n",
      "      ADD UNDIRECTED EDGE reviewOf(FROM Review, TO Business);\n",
      "    }\n",
      "\n",
      "  - CREATE SCHEMA_CHANGE JOB friend_schema FOR GRAPH yelp {\n",
      "      ADD UNDIRECTED EDGE friend(FROM User, TO User);\n",
      "    }\n",
      "\n",
      "Queries: \n",
      "  - add_review_edges() (installed v2)\n",
      "\n",
      "\n",
      "\n",
      "\n",
      "\n"
     ]
    }
   ],
   "source": [
    "print(shell.gsql('''\n",
    "drop JOB friend_schema\n",
    "CREATE SCHEMA_CHANGE JOB friend_schema FOR GRAPH yelp{\n",
    "    ADD UNDIRECTED EDGE friend (FROM User, TO User);\n",
    "}\n",
    "RUN SCHEMA_CHANGE JOB friend_schema\n",
    "ls\n",
    " '''))"
   ]
  },
  {
   "cell_type": "code",
   "execution_count": 13,
   "metadata": {},
   "outputs": [
    {
     "data": {
      "text/plain": [
       "102461451"
      ]
     },
     "execution_count": 13,
     "metadata": {},
     "output_type": "execute_result"
    }
   ],
   "source": [
    "atg.upsert_json_edges(\n",
    "    filename='yelp_academic_dataset_user.json', \n",
    "    conn=conn, \n",
    "    from_name='User', \n",
    "    from_field='user_id', \n",
    "    edge_name='friend', \n",
    "    to_name='User', \n",
    "    to_field='friends', \n",
    "    batch_size=10000, \n",
    "    max_edges=10**10, \n",
    "    split_string=', ')"
   ]
  },
  {
   "cell_type": "code",
   "execution_count": null,
   "metadata": {},
   "outputs": [],
   "source": []
  }
 ],
 "metadata": {
  "kernelspec": {
   "display_name": "Python 3",
   "language": "python",
   "name": "python3"
  },
  "language_info": {
   "codemirror_mode": {
    "name": "ipython",
    "version": 3
   },
   "file_extension": ".py",
   "mimetype": "text/x-python",
   "name": "python",
   "nbconvert_exporter": "python",
   "pygments_lexer": "ipython3",
   "version": "3.6.9"
  },
  "toc": {
   "base_numbering": 1,
   "nav_menu": {},
   "number_sections": true,
   "sideBar": true,
   "skip_h1_title": false,
   "title_cell": "Table of Contents",
   "title_sidebar": "Contents",
   "toc_cell": false,
   "toc_position": {},
   "toc_section_display": true,
   "toc_window_display": false
  }
 },
 "nbformat": 4,
 "nbformat_minor": 4
}
